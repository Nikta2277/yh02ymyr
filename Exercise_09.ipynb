{
 "cells": [
  {
   "cell_type": "markdown",
   "metadata": {
    "tags": []
   },
   "source": [
    "### BioSig Exercises WS 22/23\n",
    "---"
   ]
  },
  {
   "cell_type": "markdown",
   "metadata": {},
   "source": [
    "# Exercise 09 - 19.01.2023"
   ]
  },
  {
   "cell_type": "code",
   "execution_count": null,
   "metadata": {},
   "outputs": [],
   "source": [
    "# Imports and basic setup\n",
    "### UNCOMMENT THE CORRECT ONE\n",
    "# If you are using Jupyter Lab\n",
    "%matplotlib widget\n",
    "\n",
    "# If you are using Jupyter Notebook\n",
    "# %matplotlib notebook\n",
    "\n",
    "import matplotlib.pyplot as plt\n",
    "plt.rcParams.update({'figure.max_open_warning': 40})\n",
    "import pandas as pd\n",
    "import numpy as np"
   ]
  },
  {
   "cell_type": "code",
   "execution_count": null,
   "metadata": {},
   "outputs": [],
   "source": [
    "from scipy import signal"
   ]
  },
  {
   "cell_type": "code",
   "execution_count": null,
   "metadata": {},
   "outputs": [],
   "source": [
    "def pole_zero_plot(b=None, a=None, sos=None, ax=None, print_pz=True):\n",
    "    from matplotlib import patches\n",
    "    if sos is not None:\n",
    "        zeros, poles, _ = signal.sos2zpk(sos)\n",
    "    else:\n",
    "        zeros, poles, _ = signal.tf2zpk(b, a)\n",
    "    if print_pz is True:\n",
    "        print(\"zeros:\\n\", zeros, \"\\npoles:\\n'\", poles)\n",
    "\n",
    "    # To visualize pole-zero plane: plot unit circle and x,y axis\n",
    "    if not ax:\n",
    "        plt.figure()\n",
    "        ax = plt.subplot(1, 1, 1)\n",
    "    \n",
    "    # Check for duplicates poles or zeros\n",
    "    import collections\n",
    "    multi_pole = ((k, v) for k, v in collections.Counter(poles).items() if v > 1)\n",
    "    multi_zeros = ((k, v) for k, v in collections.Counter(zeros).items() if v > 1)\n",
    "\n",
    "    # plot circle\n",
    "    circ = patches.Circle((0, 0), radius=1, fill=False,\n",
    "                                 color='black', ls='solid', alpha=0.1)\n",
    "    ax.add_patch(circ)\n",
    "\n",
    "    #plot axis\n",
    "    ax.axhline(y=0, color='0.9')\n",
    "    ax.axvline(x=0, color='0.9')\n",
    "\n",
    "    # plot poles and zeros\n",
    "    ax.plot(zeros.real, zeros.imag, 'o', markersize=9, alpha=0.5)\n",
    "    ax.plot(poles.real, poles.imag, 'x', markersize=9, alpha=0.5)\n",
    "    \n",
    "    # Add label for duplicates\n",
    "    import itertools\n",
    "    for pos, c in itertools.chain(multi_pole, multi_zeros):\n",
    "        ax.text(pos.real, pos.imag, c, fontsize=12)\n",
    "\n",
    "    ax.axis('scaled')\n",
    "    ax.axis([-1.5, 1.5, -1.5, 1.5])\n",
    "    \n",
    "    ax.set_xlabel('Re')\n",
    "    ax.set_ylabel('Im')\n",
    "    \n",
    "def plot_freq_response(b=None, a=None, sos=None, sampling_rate=None, log_y=True,create_new_fig=True, label=None, unwrap=True):\n",
    "    \"\"\"Plot the freq response of a window.\n",
    "    \n",
    "    Args:\n",
    "        coef: The coefficients of the window\n",
    "        sampling_rate: The sampling rate of a potential signal to be filtered with the window\n",
    "        log_y: If True the y=axis will be in base 10 log.\n",
    "        create_new_fig: If True a new figure is created for the plot\n",
    "    \"\"\"\n",
    "    # Calculate the frequency response using scipy.signal.freqz \n",
    "    # Use the fs parameter to calculate the output relative to the sampling rate\n",
    "    if not sampling_rate:\n",
    "        sampling_rate = 2 * np.pi\n",
    "    \n",
    "    if sos is not None:\n",
    "        w, h = signal.sosfreqz(sos, fs=sampling_rate)\n",
    "    else:\n",
    "        w, h = signal.freqz(b, a, fs=sampling_rate)\n",
    "\n",
    "    if create_new_fig:\n",
    "        plt.figure()\n",
    "    ax1 = plt.gca()\n",
    "   \n",
    "    if log_y is True:\n",
    "        h_plot = 20 * np.log10(abs(h))\n",
    "        ax1.set_ylabel('Amplification [dB]', color='b')\n",
    "    else:\n",
    "        h_plot = abs(h)\n",
    "        ax1.set_ylabel('Amplification [no unit]', color='b')\n",
    "    \n",
    "    ax1.plot(w, h_plot, 'b', label=label)\n",
    "    ax1.set_xlabel('Frequency [Hz]')\n",
    "    ax2 = ax1.twinx()\n",
    "    angles = np.angle(h)\n",
    "    angles = np.nan_to_num(angles)\n",
    "    if unwrap:\n",
    "        angles = np.unwrap(angles)\n",
    "    ax2.plot(w, angles, 'g', label=label)\n",
    "    ax2.set_ylabel('Angle (radians)', color='g')\n",
    "    ax2.grid()\n",
    "    ax2.axis('tight')"
   ]
  },
  {
   "cell_type": "markdown",
   "metadata": {},
   "source": [
    "## Ex 9.1: SOS-Filtering\n",
    "\n",
    "In last exercise we learned that filters of high order can get numerically unstable.\n",
    "A solution is to split a high-order filer into multiple filters of a lower order.\n",
    "With SOS (second-order-section) filtering, we describe a higher order filter by filters of first or second order.\n",
    "\n",
    "a) Create a “medium-order” Butterworth filter once using the parameter `output=’ba’`. Plot the pole-zero plot and the magnitude response of the filter.\n",
    "\n",
    "b) Create the same filter using the parameter `output=’sos’`. Inspect the output. In how many sections was the filter divided?\n",
    "\n",
    "Based on the documentation:\n",
    "*Array of second-order filter coefficients, must have a shape (n_sections, 6). Each row corresponds to a second-order section, with the first three columns providing the numerator coefficients and the last three providing the denominator coefficients.*\n",
    "\n",
    "c) Plot the pole-zero-plots for each section and compare it to the original pole-zero-plot. Now, plot the magnitude response of each section and compare it.\n",
    "\n",
    "d) Increase the filter order until the simple filter gets unstable. Create an SOS-filter with the same order and compare the outputs in the z-plane and regarding the magnitude response."
   ]
  },
  {
   "cell_type": "code",
   "execution_count": null,
   "metadata": {},
   "outputs": [],
   "source": [
    "from scipy import signal\n",
    "\n",
    "N = 7\n",
    "Wn = 10  # Hz\n",
    "sampling_rate = 200  # Hz\n",
    "\n",
    "# Create a butterworth filter using the `ba` output.\n",
    "\n",
    "# TODO: YOUR CODE HERE\n",
    "\n",
    "\n",
    "\n",
    "# Plot the Pole-zero plot and the magnitude response\n",
    "# TODO: YOUR CODE HERE\n",
    "\n"
   ]
  },
  {
   "cell_type": "code",
   "execution_count": null,
   "metadata": {},
   "outputs": [],
   "source": [
    "# Create the same filter using `sos` output\n",
    "# TODO: YOUR CODE HERE\n",
    "\n",
    "\n",
    "# Inspect the output\n",
    "# TODO: YOUR CODE HERE\n",
    "\n"
   ]
  },
  {
   "cell_type": "code",
   "execution_count": null,
   "metadata": {},
   "outputs": [],
   "source": [
    "# Plot the pole zero plot for each section\n",
    "# TODO: YOUR CODE HERE\n",
    "\n",
    "\n",
    "\n",
    "# Plot the magnitude response of each sos section\n",
    "# TODO: YOUR CODE HERE\n",
    "\n"
   ]
  },
  {
   "cell_type": "code",
   "execution_count": null,
   "metadata": {},
   "outputs": [],
   "source": [
    "# Find a filter order N, where the traditional filter becomes unstable.\n",
    "# Than repeat the analysis above using this N\n",
    "# TODO: YOUR CODE HERE\n",
    "\n"
   ]
  },
  {
   "cell_type": "code",
   "execution_count": null,
   "metadata": {},
   "outputs": [],
   "source": [
    "# Recreate the unstable filter as SOS\n",
    "# Note that both, `pole_zero_plot` and the `plot_freq_response` have parameters to deal with sos intput.\n",
    "# TODO: YOUR CODE HERE\n",
    "\n"
   ]
  },
  {
   "cell_type": "markdown",
   "metadata": {},
   "source": [
    "## Ex 9.2: Pan-Tompkins 1\n",
    "\n",
    "The Pan-Tompkins algorithm is the most famous algorithm for detecting QRS complexes in ECG signals.\n",
    "In the following we will implement the filter part of the Pan-Tompkins and apply it some ECG data that was recorded during the measurement exercise last year.\n",
    "\n",
    "Use the lecture as reference for all parts of the filter cascade.\n",
    "\n",
    "a) Implement the low-pass and high-pass component of the band-pass filter and apply it to the test data\n",
    "\n",
    "b) Implement the differentiator and apply it to the test data\n",
    "\n",
    "c) Square your test data\n",
    "\n",
    "d) Implement the moving window integrator and apply it to the test signal\n",
    "\n",
    "\n",
    "At every step you can use a pole-zero-plot to verify your implementation."
   ]
  },
  {
   "cell_type": "code",
   "execution_count": null,
   "metadata": {},
   "outputs": [],
   "source": [
    "# Load one of the data files and extract the exg column\n",
    "path = './data/example_ecg.csv'\n",
    "orig_sampling_rate = 256.  # Hz\n",
    "pan_sampling_rate = 200.  # Hz\n",
    "\n",
    "ecg = pd.read_csv(path, header=1, skiprows=0, index_col='timestamp')['ecg']\n",
    "\n",
    "# resample the data to 200 Hz for the algorithms\n",
    "ecg = pd.Series(signal.resample(ecg, int(len(ecg) * pan_sampling_rate/orig_sampling_rate)))\n",
    "ecg.index /= pan_sampling_rate\n",
    "\n",
    "# For visualisation and testing select part of the signal\n",
    "ecg_part = ecg.loc[150:170]\n",
    "\n",
    "plt.figure()\n",
    "ecg_part.plot()\n",
    "plt.xlabel('time [s]');"
   ]
  },
  {
   "cell_type": "markdown",
   "metadata": {},
   "source": [
    "### Bandpass Filter Part 1: Low-pass"
   ]
  },
  {
   "cell_type": "code",
   "execution_count": null,
   "metadata": {},
   "outputs": [],
   "source": [
    "# Design the filter based on the transfer function given in the lecture \n",
    "# and produce a pole-zero and a magnitude response plot\n",
    "# TODO: YOUR CODE HERE\n",
    "\n"
   ]
  },
  {
   "cell_type": "code",
   "execution_count": null,
   "metadata": {},
   "outputs": [],
   "source": [
    "# Filter the ECG sample with the lowpass filter\n",
    "# TODO: YOUR CODE HERE\n",
    "\n"
   ]
  },
  {
   "cell_type": "markdown",
   "metadata": {},
   "source": [
    "### Bandpass Filter Part 2: High-pass"
   ]
  },
  {
   "cell_type": "code",
   "execution_count": null,
   "metadata": {},
   "outputs": [],
   "source": [
    "# Design the filter based on the transfer function given in the lecture \n",
    "# and produce a pole-zero and a magnitude response plot\n",
    "# TODO: YOUR CODE HERE\n",
    "\n"
   ]
  },
  {
   "cell_type": "code",
   "execution_count": null,
   "metadata": {},
   "outputs": [],
   "source": [
    "# Apply the filter to the already lowpassed filter data and plot the result\n",
    "# TODO: YOUR CODE HERE\n",
    "\n"
   ]
  },
  {
   "cell_type": "markdown",
   "metadata": {},
   "source": [
    "### Derivative Operator"
   ]
  },
  {
   "cell_type": "code",
   "execution_count": null,
   "metadata": {},
   "outputs": [],
   "source": [
    "# Design the filter based on the transfer function given in the lecture \n",
    "# and produce a pole-zero and a magnitude response plot\n",
    "# TODO: YOUR CODE HERE\n",
    "\n"
   ]
  },
  {
   "cell_type": "code",
   "execution_count": null,
   "metadata": {},
   "outputs": [],
   "source": [
    "# Apply the filter to the already bandpassed filter data and plot the result\n",
    "# TODO: YOUR CODE HERE\n",
    "\n"
   ]
  },
  {
   "cell_type": "markdown",
   "metadata": {},
   "source": [
    "### Squaring"
   ]
  },
  {
   "cell_type": "code",
   "execution_count": null,
   "metadata": {},
   "outputs": [],
   "source": [
    "# Square the signal and plot the result\n",
    "# TODO: YOUR CODE HERE\n",
    "\n"
   ]
  },
  {
   "cell_type": "markdown",
   "metadata": {},
   "source": [
    "### Moving Window Integrator"
   ]
  },
  {
   "cell_type": "code",
   "execution_count": null,
   "metadata": {},
   "outputs": [],
   "source": [
    "# Design the filter based on the transfer function given in the lecture \n",
    "# and produce a pole-zero and a magnitude response plot\n",
    "# TODO: YOUR CODE HERE\n",
    "\n"
   ]
  },
  {
   "cell_type": "code",
   "execution_count": null,
   "metadata": {},
   "outputs": [],
   "source": [
    "# Apply the filter to the sqaured data and plot the result\n",
    "# TODO: YOUR CODE HERE\n",
    "\n"
   ]
  },
  {
   "cell_type": "code",
   "execution_count": null,
   "metadata": {},
   "outputs": [],
   "source": []
  }
 ],
 "metadata": {
  "kernelspec": {
   "display_name": "Python 3 (ipykernel)",
   "language": "python",
   "name": "python3"
  },
  "language_info": {
   "codemirror_mode": {
    "name": "ipython",
    "version": 3
   },
   "file_extension": ".py",
   "mimetype": "text/x-python",
   "name": "python",
   "nbconvert_exporter": "python",
   "pygments_lexer": "ipython3",
   "version": "3.8.3"
  }
 },
 "nbformat": 4,
 "nbformat_minor": 4
}
